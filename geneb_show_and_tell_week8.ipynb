{
  "nbformat": 4,
  "nbformat_minor": 0,
  "metadata": {
    "colab": {
      "name": "geneb_show_and_tell_week8.ipynb",
      "provenance": [],
      "collapsed_sections": [],
      "authorship_tag": "ABX9TyMTHbz7p99indq8zr2fIjUV",
      "include_colab_link": true
    },
    "kernelspec": {
      "name": "python3",
      "display_name": "Python 3"
    }
  },
  "cells": [
    {
      "cell_type": "markdown",
      "metadata": {
        "id": "view-in-github",
        "colab_type": "text"
      },
      "source": [
        "<a href=\"https://colab.research.google.com/github/NIP-Data-Computation/colabtools/blob/master/geneb_show_and_tell_week8.ipynb\" target=\"_parent\"><img src=\"https://colab.research.google.com/assets/colab-badge.svg\" alt=\"Open In Colab\"/></a>"
      ]
    },
    {
      "cell_type": "markdown",
      "metadata": {
        "id": "muoXVidvm1Ks"
      },
      "source": [
        "**Week 8 Datacamp Show and Tell**\n",
        "\n",
        "Gene Carlo Belinario\n",
        "\n",
        "\n",
        "\n",
        "*   Python Datascience Toolbox - Part 2\n",
        "*   Writing Efficient Python Code\n",
        "\n"
      ]
    },
    {
      "cell_type": "code",
      "metadata": {
        "id": "jVzgaLK9mwxH",
        "outputId": "ff54da89-1ae8-4c9b-b21d-f5b904070979",
        "colab": {
          "base_uri": "https://localhost:8080/"
        }
      },
      "source": [
        "#Mount drive\n",
        "from google.colab import drive\n",
        "drive.mount('/content/drive')\n",
        "\n",
        "#Check if files in the directory are existing and accessible\n",
        "!ls drive/My\\ Drive/NIP-Data-Computation-Group-Drive/Datasets/PHL\\ Customs\\ Open\\ Data/clean/csv"
      ],
      "execution_count": 1,
      "outputs": [
        {
          "output_type": "stream",
          "text": [
            "Mounted at /content/drive\n",
            "boc_lite_2012_2019_top9_hscode.csv  boc_lite_2015.csv  boc_lite_2019.csv\n",
            "boc_lite_2012.csv\t\t    boc_lite_2016.csv  gapminder.csv\n",
            "boc_lite_2013.csv\t\t    boc_lite_2017.csv\n",
            "boc_lite_2014.csv\t\t    boc_lite_2018.csv\n"
          ],
          "name": "stdout"
        }
      ]
    },
    {
      "cell_type": "code",
      "metadata": {
        "id": "YlBp_BB7qsPY",
        "outputId": "b840feb1-07f0-4cbf-9f39-9842142ff677",
        "colab": {
          "base_uri": "https://localhost:8080/"
        }
      },
      "source": [
        "%cd drive/My\\ Drive/NIP-Data-Computation-Group-Drive/Datasets/PHL\\ Customs\\ Open\\ Data/clean/csv"
      ],
      "execution_count": 2,
      "outputs": [
        {
          "output_type": "stream",
          "text": [
            "/content/drive/.shortcut-targets-by-id/1pfxnf06OodnUo3H4NgkxVN6pA2FI9hh_/NIP-Data-Computation-Group-Drive/Datasets/PHL Customs Open Data/clean/csv\n"
          ],
          "name": "stdout"
        }
      ]
    },
    {
      "cell_type": "code",
      "metadata": {
        "id": "6pMlzkuVpDYx"
      },
      "source": [
        "#Import modules\n",
        "import pandas as pd\n",
        "import matplotlib.pyplot as plt"
      ],
      "execution_count": 3,
      "outputs": []
    },
    {
      "cell_type": "markdown",
      "metadata": {
        "id": "r-u5O0iirRLo"
      },
      "source": [
        "For this show and tell, I'll be utilizing the 2019 BOC data."
      ]
    },
    {
      "cell_type": "code",
      "metadata": {
        "id": "XZDb3tU_pJmg",
        "outputId": "c3baa4a2-17fb-4fd4-a781-514c97ee2062",
        "colab": {
          "base_uri": "https://localhost:8080/"
        }
      },
      "source": [
        "#Open and store the csv file using pandas\n",
        "boc19 = pd.read_csv('boc_lite_2019.csv', encoding='ISO-8859-1')\n",
        "\n",
        "#Print info about the csv file\n",
        "print(boc19.info())"
      ],
      "execution_count": 4,
      "outputs": [
        {
          "output_type": "stream",
          "text": [
            "/usr/local/lib/python3.6/dist-packages/IPython/core/interactiveshell.py:2718: DtypeWarning: Columns (25) have mixed types.Specify dtype option on import or set low_memory=False.\n",
            "  interactivity=interactivity, compiler=compiler, result=result)\n"
          ],
          "name": "stderr"
        },
        {
          "output_type": "stream",
          "text": [
            "<class 'pandas.core.frame.DataFrame'>\n",
            "RangeIndex: 3794763 entries, 0 to 3794762\n",
            "Data columns (total 30 columns):\n",
            " #   Column                Dtype  \n",
            "---  ------                -----  \n",
            " 0   uid                   object \n",
            " 1   ty                    int64  \n",
            " 2   tq                    object \n",
            " 3   tm                    object \n",
            " 4   entry                 float64\n",
            " 5   hscode                int64  \n",
            " 6   goodsdescription      object \n",
            " 7   p                     float64\n",
            " 8   q                     float64\n",
            " 9   m_fob                 float64\n",
            " 10  m_cif                 float64\n",
            " 11  fx_usd                float64\n",
            " 12  dutiablevalueforeign  float64\n",
            " 13  exchangerate          float64\n",
            " 14  currency              object \n",
            " 15  dutiablevaluephp      float64\n",
            " 16  dutypaid              int64  \n",
            " 17  exciseadvalorem       int64  \n",
            " 18  arrastre              float64\n",
            " 19  wharfage              float64\n",
            " 20  vatbase               int64  \n",
            " 21  vatpaid               int64  \n",
            " 22  othertax              float64\n",
            " 23  finesandpenalties     float64\n",
            " 24  dutiestaxes           int64  \n",
            " 25  prefcode              object \n",
            " 26  countryorigin_iso3    object \n",
            " 27  countryexport_iso3    object \n",
            " 28  subport               float64\n",
            " 29  port                  float64\n",
            "dtypes: float64(15), int64(7), object(8)\n",
            "memory usage: 868.6+ MB\n",
            "None\n"
          ],
          "name": "stdout"
        }
      ]
    },
    {
      "cell_type": "code",
      "metadata": {
        "id": "Vw3VR_C8rtAR",
        "outputId": "9c00a23d-3344-44d7-aab1-736474e3067c",
        "colab": {
          "base_uri": "https://localhost:8080/"
        }
      },
      "source": [
        "#Print a few rows for a glimpse of the data set\n",
        "print(boc19.head(1))"
      ],
      "execution_count": 5,
      "outputs": [
        {
          "output_type": "stream",
          "text": [
            "               uid    ty      tq  ... countryexport_iso3  subport  port\n",
            "0  201901 00000001  2019  2019q1  ...                CHN      NaN   NaN\n",
            "\n",
            "[1 rows x 30 columns]\n"
          ],
          "name": "stdout"
        }
      ]
    },
    {
      "cell_type": "markdown",
      "metadata": {
        "id": "B9md1JZ4uJxr"
      },
      "source": [
        "Suppose I want to know the total mass of import transaction in specific countries, say for example imports from Japan."
      ]
    },
    {
      "cell_type": "code",
      "metadata": {
        "id": "2m9iVp-xuzv1",
        "outputId": "1fd51e93-1920-47f6-8f37-4458c0980846",
        "colab": {
          "base_uri": "https://localhost:8080/"
        }
      },
      "source": [
        "jpn_mass = boc19[boc19['countryexport_iso3'] == 'JPN']\n",
        "print(jpn_mass.info())"
      ],
      "execution_count": 6,
      "outputs": [
        {
          "output_type": "stream",
          "text": [
            "<class 'pandas.core.frame.DataFrame'>\n",
            "Int64Index: 629121 entries, 3 to 3794727\n",
            "Data columns (total 30 columns):\n",
            " #   Column                Non-Null Count   Dtype  \n",
            "---  ------                --------------   -----  \n",
            " 0   uid                   629121 non-null  object \n",
            " 1   ty                    629121 non-null  int64  \n",
            " 2   tq                    629121 non-null  object \n",
            " 3   tm                    629121 non-null  object \n",
            " 4   entry                 0 non-null       float64\n",
            " 5   hscode                629121 non-null  int64  \n",
            " 6   goodsdescription      628966 non-null  object \n",
            " 7   p                     629121 non-null  float64\n",
            " 8   q                     629121 non-null  float64\n",
            " 9   m_fob                 629121 non-null  float64\n",
            " 10  m_cif                 629121 non-null  float64\n",
            " 11  fx_usd                629121 non-null  float64\n",
            " 12  dutiablevalueforeign  629121 non-null  float64\n",
            " 13  exchangerate          629121 non-null  float64\n",
            " 14  currency              629121 non-null  object \n",
            " 15  dutiablevaluephp      629121 non-null  float64\n",
            " 16  dutypaid              629121 non-null  int64  \n",
            " 17  exciseadvalorem       629121 non-null  int64  \n",
            " 18  arrastre              629121 non-null  float64\n",
            " 19  wharfage              0 non-null       float64\n",
            " 20  vatbase               629121 non-null  int64  \n",
            " 21  vatpaid               629121 non-null  int64  \n",
            " 22  othertax              0 non-null       float64\n",
            " 23  finesandpenalties     0 non-null       float64\n",
            " 24  dutiestaxes           629121 non-null  int64  \n",
            " 25  prefcode              10562 non-null   object \n",
            " 26  countryorigin_iso3    629121 non-null  object \n",
            " 27  countryexport_iso3    629121 non-null  object \n",
            " 28  subport               0 non-null       float64\n",
            " 29  port                  0 non-null       float64\n",
            "dtypes: float64(15), int64(7), object(8)\n",
            "memory usage: 148.8+ MB\n",
            "None\n"
          ],
          "name": "stdout"
        }
      ]
    },
    {
      "cell_type": "code",
      "metadata": {
        "id": "Jv1KCE_6wRwD",
        "outputId": "de453ee0-4028-4202-c88d-2c2bf0268a10",
        "colab": {
          "base_uri": "https://localhost:8080/"
        }
      },
      "source": [
        "#Compute the sum of the masses of the import and divide by 1000 to convert units to metric tons\n",
        "jpn_total = jpn_mass['q'].sum() / 1000\n",
        "print(jpn_total)\n"
      ],
      "execution_count": 7,
      "outputs": [
        {
          "output_type": "stream",
          "text": [
            "5667085.176095491\n"
          ],
          "name": "stdout"
        }
      ]
    },
    {
      "cell_type": "markdown",
      "metadata": {
        "id": "GqF4NL-4zBHw"
      },
      "source": [
        "It is easy to compute the total mass of the imports coming from one country. But what if we want to do it in other countries as well without retyping the same code over and over again?"
      ]
    },
    {
      "cell_type": "code",
      "metadata": {
        "id": "g_-XzgKjhjhv",
        "outputId": "57a49331-4834-474c-e6c5-4b0ca1c5697f",
        "colab": {
          "base_uri": "https://localhost:8080/"
        }
      },
      "source": [
        "#Define a function that computes the total mass of the import of a country\n",
        "def totalmass(country):\n",
        "  return boc19[boc19['countryexport_iso3'] == country]['q'].sum() / 1000\n",
        "\n",
        "print(totalmass('JPN'))"
      ],
      "execution_count": 8,
      "outputs": [
        {
          "output_type": "stream",
          "text": [
            "5667085.176095491\n"
          ],
          "name": "stdout"
        }
      ]
    },
    {
      "cell_type": "code",
      "metadata": {
        "id": "xPxKhuxXl7HF",
        "outputId": "5c2b6db1-028a-4ffa-d2a9-de93c3850d3c",
        "colab": {
          "base_uri": "https://localhost:8080/"
        }
      },
      "source": [
        "#We can use this function to check other country's total mass of the imports\n",
        "\n",
        "#From China\n",
        "print('China =', totalmass('CHN'), 'metric tons')\n",
        "\n",
        "#From Vietnam\n",
        "print('Vietnam =', totalmass('VNM'), 'metric tons')\n",
        "\n",
        "#From USA\n",
        "print('USA =', totalmass('USA'), 'metric tons')\n",
        "\n",
        "#From UAE\n",
        "print('UAE =', totalmass('ARE'), 'metric tons')"
      ],
      "execution_count": 9,
      "outputs": [
        {
          "output_type": "stream",
          "text": [
            "China = 21702591.83363481 metric tons\n",
            "Vietnam = 9820359.966967791 metric tons\n",
            "USA = 7620505.724825105 metric tons\n",
            "UAE = 2406516.8535998943 metric tons\n"
          ],
          "name": "stdout"
        }
      ]
    },
    {
      "cell_type": "markdown",
      "metadata": {
        "id": "zUm0jM9lhPuA"
      },
      "source": [
        "However, if the data source is being streamed, one can also define a function that updates the total mass as new data for a country is added. "
      ]
    },
    {
      "cell_type": "code",
      "metadata": {
        "id": "I912p6Kt6S4G"
      },
      "source": [
        "#Define a function that calculates total mass of imports from a country\n",
        "def totalmass_country(country_code):\n",
        "  total = 0\n",
        "  for chunk in pd.read_csv('boc_lite_2019.csv', chunksize=1000, encoding='ISO-8859-1'):\n",
        "    total += sum(chunk[chunk['countryexport_iso3'] == country_code]['q'])\n",
        "  return print(country_code, '=', total/1000 , 'metric tons')"
      ],
      "execution_count": null,
      "outputs": []
    },
    {
      "cell_type": "code",
      "metadata": {
        "id": "B26GMWse9Wtz",
        "outputId": "21da8ecb-94e9-4e10-cdf5-5cba849407f4",
        "colab": {
          "base_uri": "https://localhost:8080/"
        }
      },
      "source": [
        "#Check this function for Japan and see if it is the same\n",
        "totalmass_country('JPN')"
      ],
      "execution_count": null,
      "outputs": [
        {
          "output_type": "stream",
          "text": [
            "JPN = 5667085.176095491 metric tons\n"
          ],
          "name": "stdout"
        }
      ]
    },
    {
      "cell_type": "code",
      "metadata": {
        "id": "J1lQ0JaT_3zl",
        "outputId": "ce67c7b7-7e21-4283-de64-12f52b7c5c5c",
        "colab": {
          "base_uri": "https://localhost:8080/"
        }
      },
      "source": [
        "#We can also check total imports from other countries:\n",
        "\n",
        "#Total mass of imports from China\n",
        "totalmass_country('CHN')\n",
        "\n",
        "#Total mass of imports from Vietnam\n",
        "totalmass_country('VNM')\n",
        "\n",
        "#Total mass of imports from USA\n",
        "totalmass_country('USA')\n",
        "\n",
        "#Total mass of imports from UAE\n",
        "totalmass_country('ARE')"
      ],
      "execution_count": null,
      "outputs": [
        {
          "output_type": "stream",
          "text": [
            "CHN = 21702591.833634816 metric tons\n",
            "VNM = 9820359.96696782 metric tons\n",
            "USA = 7620505.724825122 metric tons\n",
            "ARE = 2406516.8535998906 metric tons\n"
          ],
          "name": "stdout"
        }
      ]
    },
    {
      "cell_type": "markdown",
      "metadata": {
        "id": "VXuCXPhom5P6"
      },
      "source": [
        "Suppose we want to visually compare the total masses of imports from select countries. Say for example, we want to compare total imports coming from 10 countries: Japan (JPN), China (CHN), Vietnam (VNM), USA (USA), UAE (ARE), India (IND), Malaysia (MYS), Russia (RUS), Italy (ITA), and Philippines (PHL). "
      ]
    },
    {
      "cell_type": "code",
      "metadata": {
        "id": "CpYh6CpKodtM",
        "outputId": "c12e5766-3bd5-4012-d204-267d50f1108d",
        "colab": {
          "base_uri": "https://localhost:8080/"
        }
      },
      "source": [
        "#Store country names in a list\n",
        "selected_country = ['JPN', 'CHN', 'VNM', 'USA', 'ARE', 'IND', 'MYS', 'RUS', 'ITA', 'PHL']\n",
        "\n",
        "#Using dictionary comprehension, create a dictionary of total mass of imports for each country\n",
        "total_selected_country = {country : totalmass(country) for country in selected_country}\n",
        "\n",
        "print(total_selected_country)"
      ],
      "execution_count": 10,
      "outputs": [
        {
          "output_type": "stream",
          "text": [
            "{'JPN': 5667085.176095491, 'CHN': 21702591.83363481, 'VNM': 9820359.966967791, 'USA': 7620505.724825105, 'ARE': 2406516.8535998943, 'IND': 1444832.4162828834, 'MYS': 4963905.104866741, 'RUS': 2685486.8602613285, 'ITA': 317496.1639535887, 'PHL': 110.46157000282}\n"
          ],
          "name": "stdout"
        }
      ]
    },
    {
      "cell_type": "code",
      "metadata": {
        "id": "vose7_dwr5C0",
        "outputId": "34ecb444-8d87-4b51-fbee-ebeea34074f8",
        "colab": {
          "base_uri": "https://localhost:8080/",
          "height": 294
        }
      },
      "source": [
        "#Plot a bar graph\n",
        "plt.barh(list(total_selected_country.keys()), total_selected_country.values())\n",
        "plt.title(\"Total Imports from Select Countries\")\n",
        "plt.ylabel('Country')\n",
        "plt.show()"
      ],
      "execution_count": 11,
      "outputs": [
        {
          "output_type": "display_data",
          "data": {
            "image/png": "[encoded data removed]",
            "text/plain": [
              "<Figure size 432x288 with 1 Axes>"
            ]
          },
          "metadata": {
            "tags": [],
            "needs_background": "light"
          }
        }
      ]
    },
    {
      "cell_type": "markdown",
      "metadata": {
        "id": "gevfQ02uyNC4"
      },
      "source": [
        "Now suppose out of curiosity, we want to know all the total masses of all imports from all countries on 2019. "
      ]
    },
    {
      "cell_type": "code",
      "metadata": {
        "id": "-pJBt7T4yUaB",
        "outputId": "d7f7b73d-8f2d-4b31-adaf-a92e50a26931",
        "colab": {
          "base_uri": "https://localhost:8080/"
        }
      },
      "source": [
        "#Extract all counntries where imports came into a list\n",
        "all_countries = boc19['countryexport_iso3'].unique()\n",
        "\n",
        "#Use dictionary comprehension to record total imports from each country\n",
        "total_all_countries = {countries : totalmass(countries) for countries in all_countries}\n",
        "\n",
        "print(all_countries)"
      ],
      "execution_count": 12,
      "outputs": [
        {
          "output_type": "stream",
          "text": [
            "['CHN' 'TWN' 'JPN' 'IDN' 'THA' 'RUS' 'MYS' 'KOR' 'VNM' 'PAK' 'UNS' 'SGP'\n",
            " 'HKG' 'USA' 'DEU' 'ESP' 'IND' 'CAN' 'NLD' 'BRA' 'IRL' 'CHL' 'AUS' 'DNK'\n",
            " 'ARG' 'ARE' 'BEL' 'POL' 'CHE' 'ITA' 'SWE' 'GBR' 'NOR' 'FIN' 'NZL' 'FRA'\n",
            " 'ZAF' 'LKA' 'LSO' 'TUR' 'HUN' 'SVN' 'GAB' 'SDN' 'URY' 'KHM' 'EGY' 'BGD'\n",
            " 'SAU' 'PRT' 'PRK' 'AUT' 'MMR' 'TZA' 'SLB' 'ISR' 'MEX' 'ANT' 'PNG' 'CXR'\n",
            " 'NFK' 'QAT' 'IRN' 'COL' 'UKR' 'GUM' 'FJI' 'OMN' 'BHR' 'ROU' 'MDV' 'JOR'\n",
            " 'CZE' 'GRC' 'CYP' 'LUX' 'CRI' 'LVA' 'MAC' 'BLZ' 'DOM' 'LTU' 'PER' 'BGR'\n",
            " 'MDG' 'MDA' 'HND' 'PAN' 'ECU' 'KEN' 'EST' 'SVK' 'VGB' 'MAR' 'TUN' 'BRN'\n",
            " 'UZB' 'NIC' 'LIE' 'CUB' 'SYC' 'NGA' 'MLT' 'NTZ' 'NPL' 'MCO' 'MNG' 'MUS'\n",
            " 'WSM' 'GTM' 'KWT' 'SRB' 'UMI' 'LBN' 'AGO' 'KAZ' 'PRI' 'LCA' 'GEO' 'MNP'\n",
            " 'SWZ' 'HTI' 'SLV' 'ETH' 'TLS' 'GHA' 'ISL' 'CIV' 'MKD' 'IRQ' 'MHL' 'LAO'\n",
            " 'ZWE' 'MWI' 'VIR' 'KIR' 'GNQ' 'GIN' 'HRV' 'PLW' 'SLE' 'BLR' 'ERI' 'SER'\n",
            " 'SMR' 'ZAR' 'PYF' 'AND' 'YEM' 'JAM' 'FSM' 'VEN' 'GIB' 'BIH' 'BMU' 'NAM'\n",
            " 'AIA' 'UGA' 'GMB' 'CMR' 'VUT' 'BOL' 'FRO' 'PRY' 'BTN' 'MOZ' 'REU' 'LBY'\n",
            " 'TGO' 'ABW' 'ZMB' 'BFA' 'TCD' 'MSR' 'ARM' 'NRU' 'ALB' 'RWA' 'GUY' 'KGZ'\n",
            " 'IOT' 'PHL' 'MLI' 'NCL' 'GLP' 'AFG' 'SYR' 'AZE']\n"
          ],
          "name": "stdout"
        }
      ]
    },
    {
      "cell_type": "code",
      "metadata": {
        "id": "gfQf1-dIz3-g",
        "outputId": "bbdfe738-7139-4457-fdce-3f468e1cfc42",
        "colab": {
          "base_uri": "https://localhost:8080/",
          "height": 294
        }
      },
      "source": [
        "#Plot \n",
        "plt.barh(list(total_all_countries.keys()), total_all_countries.values())\n",
        "plt.title(\"Total Imports (in Metric Tons)\")\n",
        "plt.ylabel('Country')\n",
        "plt.show()"
      ],
      "execution_count": 13,
      "outputs": [
        {
          "output_type": "display_data",
          "data": {
            "image/png": "[encoded data removed]",
            "text/plain": [
              "<Figure size 432x288 with 1 Axes>"
            ]
          },
          "metadata": {
            "tags": [],
            "needs_background": "light"
          }
        }
      ]
    },
    {
      "cell_type": "code",
      "metadata": {
        "id": "Zk7fc25N1OpE",
        "outputId": "5a85140c-b682-4718-8638-f3501815dd49",
        "colab": {
          "base_uri": "https://localhost:8080/"
        }
      },
      "source": [
        "#Filter countries that made total imports greater than 1 million metric tons\n",
        "greater_countries = {countries : totalmass(countries) for countries in all_countries if totalmass(countries) >= 10.0**6}\n",
        "\n",
        "print(greater_countries)"
      ],
      "execution_count": 14,
      "outputs": [
        {
          "output_type": "stream",
          "text": [
            "{'CHN': 21702591.83363481, 'TWN': 1814389.4682337032, 'JPN': 5667085.176095491, 'IDN': 31657720.777430832, 'THA': 5042318.974965865, 'RUS': 2685486.8602613285, 'MYS': 4963905.104866741, 'KOR': 6559217.339144079, 'VNM': 9820359.966967791, 'SGP': 2502568.7986735934, 'USA': 7620505.724825105, 'IND': 1444832.4162828834, 'BRA': 5193867.1140030045, 'AUS': 4535027.2703483505, 'ARE': 2406516.8535998943, 'SAU': 2779821.1895144177, 'UKR': 1243409.9124615123, 'KWT': 2092326.6586499969}\n"
          ],
          "name": "stdout"
        }
      ]
    },
    {
      "cell_type": "code",
      "metadata": {
        "id": "c_OlW_nc3YeQ",
        "outputId": "4c18aee7-0768-474e-b3eb-6bddcfa3d50f",
        "colab": {
          "base_uri": "https://localhost:8080/",
          "height": 294
        }
      },
      "source": [
        "#Plot filtered countries. Apparently, values in the dictionary cannot be sorted.\n",
        "plt.barh(list(greater_countries.keys()), greater_countries.values())\n",
        "plt.title(\"Top Total Imports (in Metric Tons)\")\n",
        "plt.ylabel('Country')\n",
        "plt.show()"
      ],
      "execution_count": 18,
      "outputs": [
        {
          "output_type": "display_data",
          "data": {
            "image/png": "[encoded data removed]",
            "text/plain": [
              "<Figure size 432x288 with 1 Axes>"
            ]
          },
          "metadata": {
            "tags": [],
            "needs_background": "light"
          }
        }
      ]
    }
  ]
}